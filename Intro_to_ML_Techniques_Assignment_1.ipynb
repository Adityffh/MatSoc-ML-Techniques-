{
  "nbformat": 4,
  "nbformat_minor": 0,
  "metadata": {
    "colab": {
      "provenance": []
    },
    "kernelspec": {
      "name": "python3",
      "display_name": "Python 3"
    },
    "language_info": {
      "name": "python"
    }
  },
  "cells": [
    {
      "cell_type": "code",
      "execution_count": null,
      "metadata": {
        "id": "Jmy3eHXaver1",
        "colab": {
          "base_uri": "https://localhost:8080/",
          "height": 123
        },
        "outputId": "de611543-deed-45d3-a9c8-80b4f3a35f9d"
      },
      "outputs": [
        {
          "output_type": "execute_result",
          "data": {
            "text/plain": [
              "\"\\nMatSoc: Intro to ML Techniques\\nAssignment 1\\nDeadline: Wednesday, 27 December 2023, 23:59 IST\\n\\nName: Aditya Saraf\\nRoll Number: 210067\\nIITK Email: saditya21@iitk.ac.in\\n\\nPart A:\\n\\nI.\\n\\n1. Plot x vs y scatter plot for the given dataset\\n2. Plot the histogram of the y values\\n3. Clean the data by removing outliers and nan value containing datapoints\\n4. Plot a histogram for y values before and after cleaning the data.\\n5. Split the data into train and test with 85% of the data used for training\\n\\nII.\\n\\n1. Implement the following function:\\n\\n  def gradient_descent(x,y,alpha,epochs)\\n\\n  The function should return two parameter values (a,b)\\n  corresponding to the model  ŷ=a*x+b\\n\\n2. Plot the histogram with the residuals (y- ŷ) after model training for the\\n   original and predicted values\\n\\n3. Plot the  ŷ vs x (line chart), preferrably on top of a y vs x scatter plot\\n\\n  Note that the code for all of part A must be visible\\n\\n  Preferrably use pandas for data cleaning and matplotlib for plotting\\n\\n  Make sure all the code is run before you submit the notebook\\n\\nPart B:\\n\\n    1. Report the parameter values after training on the given data\\n       the target variable is 'y' and there is only one feature 'x'\\n    2. Report the MSE value for your model after training\\n    3. What do you think is the ideal ratio for train data if we are splitting\\n       the data into train and test datasets? Is the answer same irrespective of\\n       the size of the dataset? What percent would you take for training\\n       if your dataset has 1 feature, 1 target and 250 data points, what would\\n       you do if it had 10,000 data points instead of 250 data points\\n\\n      Note that there is no single correct answer for part B\\n\\n\""
            ],
            "application/vnd.google.colaboratory.intrinsic+json": {
              "type": "string"
            }
          },
          "metadata": {},
          "execution_count": 1
        }
      ],
      "source": [
        "\"\"\"\n",
        "MatSoc: Intro to ML Techniques\n",
        "Assignment 1\n",
        "Deadline: Wednesday, 27 December 2023, 23:59 IST\n",
        "\n",
        "Name: Aditya Saraf\n",
        "Roll Number: 210067\n",
        "IITK Email: saditya21@iitk.ac.in\n",
        "\n",
        "Part A:\n",
        "\n",
        "I.\n",
        "\n",
        "1. Plot x vs y scatter plot for the given dataset\n",
        "2. Plot the histogram of the y values\n",
        "3. Clean the data by removing outliers and nan value containing datapoints\n",
        "4. Plot a histogram for y values before and after cleaning the data.\n",
        "5. Split the data into train and test with 85% of the data used for training\n",
        "\n",
        "II.\n",
        "\n",
        "1. Implement the following function:\n",
        "\n",
        "  def gradient_descent(x,y,alpha,epochs)\n",
        "\n",
        "  The function should return two parameter values (a,b)\n",
        "  corresponding to the model  ŷ=a*x+b\n",
        "\n",
        "2. Plot the histogram with the residuals (y- ŷ) after model training for the\n",
        "   original and predicted values\n",
        "\n",
        "3. Plot the  ŷ vs x (line chart), preferrably on top of a y vs x scatter plot\n",
        "\n",
        "  Note that the code for all of part A must be visible\n",
        "\n",
        "  Preferrably use pandas for data cleaning and matplotlib for plotting\n",
        "\n",
        "  Make sure all the code is run before you submit the notebook\n",
        "\n",
        "Part B:\n",
        "\n",
        "    1. Report the parameter values after training on the given data\n",
        "       the target variable is 'y' and there is only one feature 'x'\n",
        "    2. Report the MSE value for your model after training\n",
        "    3. What do you think is the ideal ratio for train data if we are splitting\n",
        "       the data into train and test datasets? Is the answer same irrespective of\n",
        "       the size of the dataset? What percent would you take for training\n",
        "       if your dataset has 1 feature, 1 target and 250 data points, what would\n",
        "       you do if it had 10,000 data points instead of 250 data points\n",
        "\n",
        "      Note that there is no single correct answer for part B\n",
        "\n",
        "\"\"\""
      ]
    },
    {
      "cell_type": "code",
      "source": [
        "!pip install gdown"
      ],
      "metadata": {
        "colab": {
          "base_uri": "https://localhost:8080/"
        },
        "id": "nZRRVwHGl-mV",
        "outputId": "43c09138-967f-493e-843f-d612af129998"
      },
      "execution_count": null,
      "outputs": [
        {
          "output_type": "stream",
          "name": "stdout",
          "text": [
            "Requirement already satisfied: gdown in /usr/local/lib/python3.10/dist-packages (4.6.6)\n",
            "Requirement already satisfied: filelock in /usr/local/lib/python3.10/dist-packages (from gdown) (3.13.1)\n",
            "Requirement already satisfied: requests[socks] in /usr/local/lib/python3.10/dist-packages (from gdown) (2.31.0)\n",
            "Requirement already satisfied: six in /usr/local/lib/python3.10/dist-packages (from gdown) (1.16.0)\n",
            "Requirement already satisfied: tqdm in /usr/local/lib/python3.10/dist-packages (from gdown) (4.66.1)\n",
            "Requirement already satisfied: beautifulsoup4 in /usr/local/lib/python3.10/dist-packages (from gdown) (4.11.2)\n",
            "Requirement already satisfied: soupsieve>1.2 in /usr/local/lib/python3.10/dist-packages (from beautifulsoup4->gdown) (2.5)\n",
            "Requirement already satisfied: charset-normalizer<4,>=2 in /usr/local/lib/python3.10/dist-packages (from requests[socks]->gdown) (3.3.2)\n",
            "Requirement already satisfied: idna<4,>=2.5 in /usr/local/lib/python3.10/dist-packages (from requests[socks]->gdown) (3.6)\n",
            "Requirement already satisfied: urllib3<3,>=1.21.1 in /usr/local/lib/python3.10/dist-packages (from requests[socks]->gdown) (2.0.7)\n",
            "Requirement already satisfied: certifi>=2017.4.17 in /usr/local/lib/python3.10/dist-packages (from requests[socks]->gdown) (2023.11.17)\n",
            "Requirement already satisfied: PySocks!=1.5.7,>=1.5.6 in /usr/local/lib/python3.10/dist-packages (from requests[socks]->gdown) (1.7.1)\n"
          ]
        }
      ]
    },
    {
      "cell_type": "code",
      "source": [
        "import gdown\n",
        "\n",
        "file_url = 'https://drive.google.com/uc?id=1Rb6ODiBDdhiHZ_PUa7ApRfhO2syR2-YR'\n",
        "\n",
        "output_file = 'data.csv'\n",
        "\n",
        "# Download the file from Google Drive\n",
        "gdown.download(file_url, output_file, quiet=False)\n"
      ],
      "metadata": {
        "colab": {
          "base_uri": "https://localhost:8080/",
          "height": 105
        },
        "id": "IFJvxG2omBn2",
        "outputId": "5a1b25f7-0cc3-4943-dfc2-492b9e1f1191"
      },
      "execution_count": null,
      "outputs": [
        {
          "output_type": "stream",
          "name": "stderr",
          "text": [
            "Downloading...\n",
            "From: https://drive.google.com/uc?id=1Rb6ODiBDdhiHZ_PUa7ApRfhO2syR2-YR\n",
            "To: /content/data.csv\n",
            "100%|██████████| 16.7k/16.7k [00:00<00:00, 8.86MB/s]\n"
          ]
        },
        {
          "output_type": "execute_result",
          "data": {
            "text/plain": [
              "'data.csv'"
            ],
            "application/vnd.google.colaboratory.intrinsic+json": {
              "type": "string"
            }
          },
          "metadata": {},
          "execution_count": 3
        }
      ]
    },
    {
      "cell_type": "code",
      "source": [
        "import pandas as pd\n",
        "import numpy as np\n",
        "import matplotlib.pyplot as plt\n",
        "\n",
        "# Load the dataset from the downloaded CSV file\n",
        "data = pd.read_csv('data.csv')\n",
        "\n",
        "# Display the first few rows of the dataset to understand its structure\n",
        "data.head()"
      ],
      "metadata": {
        "colab": {
          "base_uri": "https://localhost:8080/",
          "height": 206
        },
        "id": "68zlb0mEmMIv",
        "outputId": "259b92bd-123a-4bf7-f4f9-efcfb737aed1"
      },
      "execution_count": null,
      "outputs": [
        {
          "output_type": "execute_result",
          "data": {
            "text/plain": [
              "   Unnamed: 0  x      y\n",
              "0           0  2  43.00\n",
              "1           1  3  55.48\n",
              "2           2  4  68.08\n",
              "3           3  5  79.24\n",
              "4           4  5  79.24"
            ],
            "text/html": [
              "\n",
              "  <div id=\"df-4ec39bd4-f741-4938-a6d9-b147eb095dfa\" class=\"colab-df-container\">\n",
              "    <div>\n",
              "<style scoped>\n",
              "    .dataframe tbody tr th:only-of-type {\n",
              "        vertical-align: middle;\n",
              "    }\n",
              "\n",
              "    .dataframe tbody tr th {\n",
              "        vertical-align: top;\n",
              "    }\n",
              "\n",
              "    .dataframe thead th {\n",
              "        text-align: right;\n",
              "    }\n",
              "</style>\n",
              "<table border=\"1\" class=\"dataframe\">\n",
              "  <thead>\n",
              "    <tr style=\"text-align: right;\">\n",
              "      <th></th>\n",
              "      <th>Unnamed: 0</th>\n",
              "      <th>x</th>\n",
              "      <th>y</th>\n",
              "    </tr>\n",
              "  </thead>\n",
              "  <tbody>\n",
              "    <tr>\n",
              "      <th>0</th>\n",
              "      <td>0</td>\n",
              "      <td>2</td>\n",
              "      <td>43.00</td>\n",
              "    </tr>\n",
              "    <tr>\n",
              "      <th>1</th>\n",
              "      <td>1</td>\n",
              "      <td>3</td>\n",
              "      <td>55.48</td>\n",
              "    </tr>\n",
              "    <tr>\n",
              "      <th>2</th>\n",
              "      <td>2</td>\n",
              "      <td>4</td>\n",
              "      <td>68.08</td>\n",
              "    </tr>\n",
              "    <tr>\n",
              "      <th>3</th>\n",
              "      <td>3</td>\n",
              "      <td>5</td>\n",
              "      <td>79.24</td>\n",
              "    </tr>\n",
              "    <tr>\n",
              "      <th>4</th>\n",
              "      <td>4</td>\n",
              "      <td>5</td>\n",
              "      <td>79.24</td>\n",
              "    </tr>\n",
              "  </tbody>\n",
              "</table>\n",
              "</div>\n",
              "    <div class=\"colab-df-buttons\">\n",
              "\n",
              "  <div class=\"colab-df-container\">\n",
              "    <button class=\"colab-df-convert\" onclick=\"convertToInteractive('df-4ec39bd4-f741-4938-a6d9-b147eb095dfa')\"\n",
              "            title=\"Convert this dataframe to an interactive table.\"\n",
              "            style=\"display:none;\">\n",
              "\n",
              "  <svg xmlns=\"http://www.w3.org/2000/svg\" height=\"24px\" viewBox=\"0 -960 960 960\">\n",
              "    <path d=\"M120-120v-720h720v720H120Zm60-500h600v-160H180v160Zm220 220h160v-160H400v160Zm0 220h160v-160H400v160ZM180-400h160v-160H180v160Zm440 0h160v-160H620v160ZM180-180h160v-160H180v160Zm440 0h160v-160H620v160Z\"/>\n",
              "  </svg>\n",
              "    </button>\n",
              "\n",
              "  <style>\n",
              "    .colab-df-container {\n",
              "      display:flex;\n",
              "      gap: 12px;\n",
              "    }\n",
              "\n",
              "    .colab-df-convert {\n",
              "      background-color: #E8F0FE;\n",
              "      border: none;\n",
              "      border-radius: 50%;\n",
              "      cursor: pointer;\n",
              "      display: none;\n",
              "      fill: #1967D2;\n",
              "      height: 32px;\n",
              "      padding: 0 0 0 0;\n",
              "      width: 32px;\n",
              "    }\n",
              "\n",
              "    .colab-df-convert:hover {\n",
              "      background-color: #E2EBFA;\n",
              "      box-shadow: 0px 1px 2px rgba(60, 64, 67, 0.3), 0px 1px 3px 1px rgba(60, 64, 67, 0.15);\n",
              "      fill: #174EA6;\n",
              "    }\n",
              "\n",
              "    .colab-df-buttons div {\n",
              "      margin-bottom: 4px;\n",
              "    }\n",
              "\n",
              "    [theme=dark] .colab-df-convert {\n",
              "      background-color: #3B4455;\n",
              "      fill: #D2E3FC;\n",
              "    }\n",
              "\n",
              "    [theme=dark] .colab-df-convert:hover {\n",
              "      background-color: #434B5C;\n",
              "      box-shadow: 0px 1px 3px 1px rgba(0, 0, 0, 0.15);\n",
              "      filter: drop-shadow(0px 1px 2px rgba(0, 0, 0, 0.3));\n",
              "      fill: #FFFFFF;\n",
              "    }\n",
              "  </style>\n",
              "\n",
              "    <script>\n",
              "      const buttonEl =\n",
              "        document.querySelector('#df-4ec39bd4-f741-4938-a6d9-b147eb095dfa button.colab-df-convert');\n",
              "      buttonEl.style.display =\n",
              "        google.colab.kernel.accessAllowed ? 'block' : 'none';\n",
              "\n",
              "      async function convertToInteractive(key) {\n",
              "        const element = document.querySelector('#df-4ec39bd4-f741-4938-a6d9-b147eb095dfa');\n",
              "        const dataTable =\n",
              "          await google.colab.kernel.invokeFunction('convertToInteractive',\n",
              "                                                    [key], {});\n",
              "        if (!dataTable) return;\n",
              "\n",
              "        const docLinkHtml = 'Like what you see? Visit the ' +\n",
              "          '<a target=\"_blank\" href=https://colab.research.google.com/notebooks/data_table.ipynb>data table notebook</a>'\n",
              "          + ' to learn more about interactive tables.';\n",
              "        element.innerHTML = '';\n",
              "        dataTable['output_type'] = 'display_data';\n",
              "        await google.colab.output.renderOutput(dataTable, element);\n",
              "        const docLink = document.createElement('div');\n",
              "        docLink.innerHTML = docLinkHtml;\n",
              "        element.appendChild(docLink);\n",
              "      }\n",
              "    </script>\n",
              "  </div>\n",
              "\n",
              "\n",
              "<div id=\"df-19056cec-0b1c-46cf-a181-c170a1f89797\">\n",
              "  <button class=\"colab-df-quickchart\" onclick=\"quickchart('df-19056cec-0b1c-46cf-a181-c170a1f89797')\"\n",
              "            title=\"Suggest charts\"\n",
              "            style=\"display:none;\">\n",
              "\n",
              "<svg xmlns=\"http://www.w3.org/2000/svg\" height=\"24px\"viewBox=\"0 0 24 24\"\n",
              "     width=\"24px\">\n",
              "    <g>\n",
              "        <path d=\"M19 3H5c-1.1 0-2 .9-2 2v14c0 1.1.9 2 2 2h14c1.1 0 2-.9 2-2V5c0-1.1-.9-2-2-2zM9 17H7v-7h2v7zm4 0h-2V7h2v10zm4 0h-2v-4h2v4z\"/>\n",
              "    </g>\n",
              "</svg>\n",
              "  </button>\n",
              "\n",
              "<style>\n",
              "  .colab-df-quickchart {\n",
              "      --bg-color: #E8F0FE;\n",
              "      --fill-color: #1967D2;\n",
              "      --hover-bg-color: #E2EBFA;\n",
              "      --hover-fill-color: #174EA6;\n",
              "      --disabled-fill-color: #AAA;\n",
              "      --disabled-bg-color: #DDD;\n",
              "  }\n",
              "\n",
              "  [theme=dark] .colab-df-quickchart {\n",
              "      --bg-color: #3B4455;\n",
              "      --fill-color: #D2E3FC;\n",
              "      --hover-bg-color: #434B5C;\n",
              "      --hover-fill-color: #FFFFFF;\n",
              "      --disabled-bg-color: #3B4455;\n",
              "      --disabled-fill-color: #666;\n",
              "  }\n",
              "\n",
              "  .colab-df-quickchart {\n",
              "    background-color: var(--bg-color);\n",
              "    border: none;\n",
              "    border-radius: 50%;\n",
              "    cursor: pointer;\n",
              "    display: none;\n",
              "    fill: var(--fill-color);\n",
              "    height: 32px;\n",
              "    padding: 0;\n",
              "    width: 32px;\n",
              "  }\n",
              "\n",
              "  .colab-df-quickchart:hover {\n",
              "    background-color: var(--hover-bg-color);\n",
              "    box-shadow: 0 1px 2px rgba(60, 64, 67, 0.3), 0 1px 3px 1px rgba(60, 64, 67, 0.15);\n",
              "    fill: var(--button-hover-fill-color);\n",
              "  }\n",
              "\n",
              "  .colab-df-quickchart-complete:disabled,\n",
              "  .colab-df-quickchart-complete:disabled:hover {\n",
              "    background-color: var(--disabled-bg-color);\n",
              "    fill: var(--disabled-fill-color);\n",
              "    box-shadow: none;\n",
              "  }\n",
              "\n",
              "  .colab-df-spinner {\n",
              "    border: 2px solid var(--fill-color);\n",
              "    border-color: transparent;\n",
              "    border-bottom-color: var(--fill-color);\n",
              "    animation:\n",
              "      spin 1s steps(1) infinite;\n",
              "  }\n",
              "\n",
              "  @keyframes spin {\n",
              "    0% {\n",
              "      border-color: transparent;\n",
              "      border-bottom-color: var(--fill-color);\n",
              "      border-left-color: var(--fill-color);\n",
              "    }\n",
              "    20% {\n",
              "      border-color: transparent;\n",
              "      border-left-color: var(--fill-color);\n",
              "      border-top-color: var(--fill-color);\n",
              "    }\n",
              "    30% {\n",
              "      border-color: transparent;\n",
              "      border-left-color: var(--fill-color);\n",
              "      border-top-color: var(--fill-color);\n",
              "      border-right-color: var(--fill-color);\n",
              "    }\n",
              "    40% {\n",
              "      border-color: transparent;\n",
              "      border-right-color: var(--fill-color);\n",
              "      border-top-color: var(--fill-color);\n",
              "    }\n",
              "    60% {\n",
              "      border-color: transparent;\n",
              "      border-right-color: var(--fill-color);\n",
              "    }\n",
              "    80% {\n",
              "      border-color: transparent;\n",
              "      border-right-color: var(--fill-color);\n",
              "      border-bottom-color: var(--fill-color);\n",
              "    }\n",
              "    90% {\n",
              "      border-color: transparent;\n",
              "      border-bottom-color: var(--fill-color);\n",
              "    }\n",
              "  }\n",
              "</style>\n",
              "\n",
              "  <script>\n",
              "    async function quickchart(key) {\n",
              "      const quickchartButtonEl =\n",
              "        document.querySelector('#' + key + ' button');\n",
              "      quickchartButtonEl.disabled = true;  // To prevent multiple clicks.\n",
              "      quickchartButtonEl.classList.add('colab-df-spinner');\n",
              "      try {\n",
              "        const charts = await google.colab.kernel.invokeFunction(\n",
              "            'suggestCharts', [key], {});\n",
              "      } catch (error) {\n",
              "        console.error('Error during call to suggestCharts:', error);\n",
              "      }\n",
              "      quickchartButtonEl.classList.remove('colab-df-spinner');\n",
              "      quickchartButtonEl.classList.add('colab-df-quickchart-complete');\n",
              "    }\n",
              "    (() => {\n",
              "      let quickchartButtonEl =\n",
              "        document.querySelector('#df-19056cec-0b1c-46cf-a181-c170a1f89797 button');\n",
              "      quickchartButtonEl.style.display =\n",
              "        google.colab.kernel.accessAllowed ? 'block' : 'none';\n",
              "    })();\n",
              "  </script>\n",
              "</div>\n",
              "\n",
              "    </div>\n",
              "  </div>\n"
            ]
          },
          "metadata": {},
          "execution_count": 4
        }
      ]
    },
    {
      "cell_type": "markdown",
      "source": [
        "1. Plot x vs y scatter plot for the given dataset"
      ],
      "metadata": {
        "id": "W9bB_lIRsCxT"
      }
    },
    {
      "cell_type": "code",
      "source": [
        "# Assuming x and y are columns in your dataset\n",
        "x = data['x']\n",
        "y = data['y']\n",
        "\n",
        "# Plotting x vs y scatter plot\n",
        "plt.figure(figsize=(8, 6))\n",
        "plt.scatter(x, y, c='blue', alpha=0.5)\n",
        "plt.title('Scatter Plot of x vs y')\n",
        "plt.xlabel('x')\n",
        "plt.ylabel('y')\n",
        "plt.grid(True)\n",
        "plt.show()"
      ],
      "metadata": {
        "colab": {
          "base_uri": "https://localhost:8080/",
          "height": 564
        },
        "id": "h0dTPcqamUcu",
        "outputId": "4a900bc3-ad3c-4c3f-d5d5-590ff52cf5fa"
      },
      "execution_count": null,
      "outputs": [
        {
          "output_type": "display_data",
          "data": {
            "text/plain": [
              "<Figure size 800x600 with 1 Axes>"
            ],
            "image/png": "[encoded data removed]"
          },
          "metadata": {}
        }
      ]
    },
    {
      "cell_type": "markdown",
      "source": [
        "2. Plot the histogram of the y values"
      ],
      "metadata": {
        "id": "iiNcgyvzsTvu"
      }
    },
    {
      "cell_type": "code",
      "source": [
        "# Plotting histogram of y values\n",
        "plt.figure(figsize=(8, 6))\n",
        "plt.hist(y, bins=20, color='green', alpha=0.7)\n",
        "plt.title('Histogram of y values')\n",
        "plt.xlabel('y')\n",
        "plt.ylabel('Frequency')\n",
        "plt.grid(True)\n",
        "plt.show()"
      ],
      "metadata": {
        "colab": {
          "base_uri": "https://localhost:8080/",
          "height": 564
        },
        "id": "70JvyRXfmdQF",
        "outputId": "fbf8d5e4-e751-4989-92f9-ea935dd77b0c"
      },
      "execution_count": null,
      "outputs": [
        {
          "output_type": "display_data",
          "data": {
            "text/plain": [
              "<Figure size 800x600 with 1 Axes>"
            ],
            "image/png": "[encoded data removed]"
          },
          "metadata": {}
        }
      ]
    },
    {
      "cell_type": "markdown",
      "source": [
        "3. Clean the data by removing outliers and nan value containing datapoints"
      ],
      "metadata": {
        "id": "rihcLBvxsb2L"
      }
    },
    {
      "cell_type": "code",
      "source": [
        "# Removing outliers and NaN values from the dataset\n",
        "cleaned_data = data.dropna()  # Remove rows with NaN values\n",
        "cleaned_data = cleaned_data[(np.abs(cleaned_data['y'] - cleaned_data['y'].mean()) / cleaned_data['y'].std()) < 3]  # Remove outliers\n",
        "\n",
        "# Display the first few rows of cleaned data\n",
        "cleaned_data.head()"
      ],
      "metadata": {
        "colab": {
          "base_uri": "https://localhost:8080/",
          "height": 206
        },
        "id": "4avK0cY0miK_",
        "outputId": "ea3ea990-7751-4836-f6ed-337c2d4eb849"
      },
      "execution_count": null,
      "outputs": [
        {
          "output_type": "execute_result",
          "data": {
            "text/plain": [
              "   Unnamed: 0  x      y\n",
              "0           0  2  43.00\n",
              "1           1  3  55.48\n",
              "2           2  4  68.08\n",
              "3           3  5  79.24\n",
              "4           4  5  79.24"
            ],
            "text/html": [
              "\n",
              "  <div id=\"df-c58d3241-a469-4faf-b754-d9a38bc466c4\" class=\"colab-df-container\">\n",
              "    <div>\n",
              "<style scoped>\n",
              "    .dataframe tbody tr th:only-of-type {\n",
              "        vertical-align: middle;\n",
              "    }\n",
              "\n",
              "    .dataframe tbody tr th {\n",
              "        vertical-align: top;\n",
              "    }\n",
              "\n",
              "    .dataframe thead th {\n",
              "        text-align: right;\n",
              "    }\n",
              "</style>\n",
              "<table border=\"1\" class=\"dataframe\">\n",
              "  <thead>\n",
              "    <tr style=\"text-align: right;\">\n",
              "      <th></th>\n",
              "      <th>Unnamed: 0</th>\n",
              "      <th>x</th>\n",
              "      <th>y</th>\n",
              "    </tr>\n",
              "  </thead>\n",
              "  <tbody>\n",
              "    <tr>\n",
              "      <th>0</th>\n",
              "      <td>0</td>\n",
              "      <td>2</td>\n",
              "      <td>43.00</td>\n",
              "    </tr>\n",
              "    <tr>\n",
              "      <th>1</th>\n",
              "      <td>1</td>\n",
              "      <td>3</td>\n",
              "      <td>55.48</td>\n",
              "    </tr>\n",
              "    <tr>\n",
              "      <th>2</th>\n",
              "      <td>2</td>\n",
              "      <td>4</td>\n",
              "      <td>68.08</td>\n",
              "    </tr>\n",
              "    <tr>\n",
              "      <th>3</th>\n",
              "      <td>3</td>\n",
              "      <td>5</td>\n",
              "      <td>79.24</td>\n",
              "    </tr>\n",
              "    <tr>\n",
              "      <th>4</th>\n",
              "      <td>4</td>\n",
              "      <td>5</td>\n",
              "      <td>79.24</td>\n",
              "    </tr>\n",
              "  </tbody>\n",
              "</table>\n",
              "</div>\n",
              "    <div class=\"colab-df-buttons\">\n",
              "\n",
              "  <div class=\"colab-df-container\">\n",
              "    <button class=\"colab-df-convert\" onclick=\"convertToInteractive('df-c58d3241-a469-4faf-b754-d9a38bc466c4')\"\n",
              "            title=\"Convert this dataframe to an interactive table.\"\n",
              "            style=\"display:none;\">\n",
              "\n",
              "  <svg xmlns=\"http://www.w3.org/2000/svg\" height=\"24px\" viewBox=\"0 -960 960 960\">\n",
              "    <path d=\"M120-120v-720h720v720H120Zm60-500h600v-160H180v160Zm220 220h160v-160H400v160Zm0 220h160v-160H400v160ZM180-400h160v-160H180v160Zm440 0h160v-160H620v160ZM180-180h160v-160H180v160Zm440 0h160v-160H620v160Z\"/>\n",
              "  </svg>\n",
              "    </button>\n",
              "\n",
              "  <style>\n",
              "    .colab-df-container {\n",
              "      display:flex;\n",
              "      gap: 12px;\n",
              "    }\n",
              "\n",
              "    .colab-df-convert {\n",
              "      background-color: #E8F0FE;\n",
              "      border: none;\n",
              "      border-radius: 50%;\n",
              "      cursor: pointer;\n",
              "      display: none;\n",
              "      fill: #1967D2;\n",
              "      height: 32px;\n",
              "      padding: 0 0 0 0;\n",
              "      width: 32px;\n",
              "    }\n",
              "\n",
              "    .colab-df-convert:hover {\n",
              "      background-color: #E2EBFA;\n",
              "      box-shadow: 0px 1px 2px rgba(60, 64, 67, 0.3), 0px 1px 3px 1px rgba(60, 64, 67, 0.15);\n",
              "      fill: #174EA6;\n",
              "    }\n",
              "\n",
              "    .colab-df-buttons div {\n",
              "      margin-bottom: 4px;\n",
              "    }\n",
              "\n",
              "    [theme=dark] .colab-df-convert {\n",
              "      background-color: #3B4455;\n",
              "      fill: #D2E3FC;\n",
              "    }\n",
              "\n",
              "    [theme=dark] .colab-df-convert:hover {\n",
              "      background-color: #434B5C;\n",
              "      box-shadow: 0px 1px 3px 1px rgba(0, 0, 0, 0.15);\n",
              "      filter: drop-shadow(0px 1px 2px rgba(0, 0, 0, 0.3));\n",
              "      fill: #FFFFFF;\n",
              "    }\n",
              "  </style>\n",
              "\n",
              "    <script>\n",
              "      const buttonEl =\n",
              "        document.querySelector('#df-c58d3241-a469-4faf-b754-d9a38bc466c4 button.colab-df-convert');\n",
              "      buttonEl.style.display =\n",
              "        google.colab.kernel.accessAllowed ? 'block' : 'none';\n",
              "\n",
              "      async function convertToInteractive(key) {\n",
              "        const element = document.querySelector('#df-c58d3241-a469-4faf-b754-d9a38bc466c4');\n",
              "        const dataTable =\n",
              "          await google.colab.kernel.invokeFunction('convertToInteractive',\n",
              "                                                    [key], {});\n",
              "        if (!dataTable) return;\n",
              "\n",
              "        const docLinkHtml = 'Like what you see? Visit the ' +\n",
              "          '<a target=\"_blank\" href=https://colab.research.google.com/notebooks/data_table.ipynb>data table notebook</a>'\n",
              "          + ' to learn more about interactive tables.';\n",
              "        element.innerHTML = '';\n",
              "        dataTable['output_type'] = 'display_data';\n",
              "        await google.colab.output.renderOutput(dataTable, element);\n",
              "        const docLink = document.createElement('div');\n",
              "        docLink.innerHTML = docLinkHtml;\n",
              "        element.appendChild(docLink);\n",
              "      }\n",
              "    </script>\n",
              "  </div>\n",
              "\n",
              "\n",
              "<div id=\"df-d2b78795-1ffd-4620-ae77-3ca1e688a01c\">\n",
              "  <button class=\"colab-df-quickchart\" onclick=\"quickchart('df-d2b78795-1ffd-4620-ae77-3ca1e688a01c')\"\n",
              "            title=\"Suggest charts\"\n",
              "            style=\"display:none;\">\n",
              "\n",
              "<svg xmlns=\"http://www.w3.org/2000/svg\" height=\"24px\"viewBox=\"0 0 24 24\"\n",
              "     width=\"24px\">\n",
              "    <g>\n",
              "        <path d=\"M19 3H5c-1.1 0-2 .9-2 2v14c0 1.1.9 2 2 2h14c1.1 0 2-.9 2-2V5c0-1.1-.9-2-2-2zM9 17H7v-7h2v7zm4 0h-2V7h2v10zm4 0h-2v-4h2v4z\"/>\n",
              "    </g>\n",
              "</svg>\n",
              "  </button>\n",
              "\n",
              "<style>\n",
              "  .colab-df-quickchart {\n",
              "      --bg-color: #E8F0FE;\n",
              "      --fill-color: #1967D2;\n",
              "      --hover-bg-color: #E2EBFA;\n",
              "      --hover-fill-color: #174EA6;\n",
              "      --disabled-fill-color: #AAA;\n",
              "      --disabled-bg-color: #DDD;\n",
              "  }\n",
              "\n",
              "  [theme=dark] .colab-df-quickchart {\n",
              "      --bg-color: #3B4455;\n",
              "      --fill-color: #D2E3FC;\n",
              "      --hover-bg-color: #434B5C;\n",
              "      --hover-fill-color: #FFFFFF;\n",
              "      --disabled-bg-color: #3B4455;\n",
              "      --disabled-fill-color: #666;\n",
              "  }\n",
              "\n",
              "  .colab-df-quickchart {\n",
              "    background-color: var(--bg-color);\n",
              "    border: none;\n",
              "    border-radius: 50%;\n",
              "    cursor: pointer;\n",
              "    display: none;\n",
              "    fill: var(--fill-color);\n",
              "    height: 32px;\n",
              "    padding: 0;\n",
              "    width: 32px;\n",
              "  }\n",
              "\n",
              "  .colab-df-quickchart:hover {\n",
              "    background-color: var(--hover-bg-color);\n",
              "    box-shadow: 0 1px 2px rgba(60, 64, 67, 0.3), 0 1px 3px 1px rgba(60, 64, 67, 0.15);\n",
              "    fill: var(--button-hover-fill-color);\n",
              "  }\n",
              "\n",
              "  .colab-df-quickchart-complete:disabled,\n",
              "  .colab-df-quickchart-complete:disabled:hover {\n",
              "    background-color: var(--disabled-bg-color);\n",
              "    fill: var(--disabled-fill-color);\n",
              "    box-shadow: none;\n",
              "  }\n",
              "\n",
              "  .colab-df-spinner {\n",
              "    border: 2px solid var(--fill-color);\n",
              "    border-color: transparent;\n",
              "    border-bottom-color: var(--fill-color);\n",
              "    animation:\n",
              "      spin 1s steps(1) infinite;\n",
              "  }\n",
              "\n",
              "  @keyframes spin {\n",
              "    0% {\n",
              "      border-color: transparent;\n",
              "      border-bottom-color: var(--fill-color);\n",
              "      border-left-color: var(--fill-color);\n",
              "    }\n",
              "    20% {\n",
              "      border-color: transparent;\n",
              "      border-left-color: var(--fill-color);\n",
              "      border-top-color: var(--fill-color);\n",
              "    }\n",
              "    30% {\n",
              "      border-color: transparent;\n",
              "      border-left-color: var(--fill-color);\n",
              "      border-top-color: var(--fill-color);\n",
              "      border-right-color: var(--fill-color);\n",
              "    }\n",
              "    40% {\n",
              "      border-color: transparent;\n",
              "      border-right-color: var(--fill-color);\n",
              "      border-top-color: var(--fill-color);\n",
              "    }\n",
              "    60% {\n",
              "      border-color: transparent;\n",
              "      border-right-color: var(--fill-color);\n",
              "    }\n",
              "    80% {\n",
              "      border-color: transparent;\n",
              "      border-right-color: var(--fill-color);\n",
              "      border-bottom-color: var(--fill-color);\n",
              "    }\n",
              "    90% {\n",
              "      border-color: transparent;\n",
              "      border-bottom-color: var(--fill-color);\n",
              "    }\n",
              "  }\n",
              "</style>\n",
              "\n",
              "  <script>\n",
              "    async function quickchart(key) {\n",
              "      const quickchartButtonEl =\n",
              "        document.querySelector('#' + key + ' button');\n",
              "      quickchartButtonEl.disabled = true;  // To prevent multiple clicks.\n",
              "      quickchartButtonEl.classList.add('colab-df-spinner');\n",
              "      try {\n",
              "        const charts = await google.colab.kernel.invokeFunction(\n",
              "            'suggestCharts', [key], {});\n",
              "      } catch (error) {\n",
              "        console.error('Error during call to suggestCharts:', error);\n",
              "      }\n",
              "      quickchartButtonEl.classList.remove('colab-df-spinner');\n",
              "      quickchartButtonEl.classList.add('colab-df-quickchart-complete');\n",
              "    }\n",
              "    (() => {\n",
              "      let quickchartButtonEl =\n",
              "        document.querySelector('#df-d2b78795-1ffd-4620-ae77-3ca1e688a01c button');\n",
              "      quickchartButtonEl.style.display =\n",
              "        google.colab.kernel.accessAllowed ? 'block' : 'none';\n",
              "    })();\n",
              "  </script>\n",
              "</div>\n",
              "\n",
              "    </div>\n",
              "  </div>\n"
            ]
          },
          "metadata": {},
          "execution_count": 7
        }
      ]
    },
    {
      "cell_type": "markdown",
      "source": [
        "**4. Plot a histogram for y values before and after cleaning the data.**"
      ],
      "metadata": {
        "id": "7MzAn9XvsjcG"
      }
    },
    {
      "cell_type": "code",
      "source": [
        "# Plotting histogram of y values before and after cleaning\n",
        "plt.figure(figsize=(12, 6))\n",
        "\n",
        "plt.subplot(1, 2, 1)\n",
        "plt.hist(y, bins=20, color='orange', alpha=0.7)\n",
        "plt.title('Histogram of y values (Before Cleaning)')\n",
        "plt.xlabel('y')\n",
        "plt.ylabel('Frequency')\n",
        "plt.grid(True)\n",
        "\n",
        "plt.subplot(1, 2, 2)\n",
        "plt.hist(cleaned_data['y'], bins=20, color='blue', alpha=0.7)\n",
        "plt.title('Histogram of y values (After Cleaning)')\n",
        "plt.xlabel('y')\n",
        "plt.ylabel('Frequency')\n",
        "plt.grid(True)\n",
        "\n",
        "plt.tight_layout()\n",
        "plt.show()"
      ],
      "metadata": {
        "colab": {
          "base_uri": "https://localhost:8080/",
          "height": 607
        },
        "id": "JnpI2nmgmpFZ",
        "outputId": "6ed6adc4-690a-4ca4-c00f-53b25059f878"
      },
      "execution_count": null,
      "outputs": [
        {
          "output_type": "display_data",
          "data": {
            "text/plain": [
              "<Figure size 1200x600 with 2 Axes>"
            ],
            "image/png": "[encoded data removed]"
          },
          "metadata": {}
        }
      ]
    },
    {
      "cell_type": "markdown",
      "source": [
        "**5. Split the data into train and test with 85% of the data used for training**"
      ],
      "metadata": {
        "id": "TA62H_LdsrJb"
      }
    },
    {
      "cell_type": "code",
      "source": [
        "from sklearn.model_selection import train_test_split\n",
        "\n",
        "# Assuming 'x' and 'y' are columns in your cleaned dataset\n",
        "x_cleaned = cleaned_data['x']\n",
        "y_cleaned = cleaned_data['y']\n",
        "\n",
        "# Splitting the cleaned data into train and test sets (85% train, 15% test)\n",
        "x_train, x_test, y_train, y_test = train_test_split(x_cleaned, y_cleaned, test_size=0.15, random_state=42)\n",
        "\n",
        "# Display the shapes of train and test sets\n",
        "print(f\"Shape of x_train: {x_train.shape}, Shape of x_test: {x_test.shape}\")\n",
        "print(f\"Shape of y_train: {y_train.shape}, Shape of y_test: {y_test.shape}\")"
      ],
      "metadata": {
        "colab": {
          "base_uri": "https://localhost:8080/"
        },
        "id": "v0g-ejdEmrf-",
        "outputId": "1148d9ec-2d88-4633-aa86-e083aa80bb8b"
      },
      "execution_count": null,
      "outputs": [
        {
          "output_type": "stream",
          "name": "stdout",
          "text": [
            "Shape of x_train: (849,), Shape of x_test: (150,)\n",
            "Shape of y_train: (849,), Shape of y_test: (150,)\n"
          ]
        }
      ]
    },
    {
      "cell_type": "markdown",
      "source": [
        "**1. Implement the following function:**\n",
        "\n",
        "  def gradient_descent(x,y,alpha,epochs)\n",
        "\n",
        "  The function should return two parameter values (a,b) corresponding to the model ŷ=a*x+b."
      ],
      "metadata": {
        "id": "iiD0MBbJXRao"
      }
    },
    {
      "cell_type": "code",
      "source": [
        "x = data['x']\n",
        "y = data['y']\n",
        "\n",
        "def gradient_descent(x, y, alpha, epochs):\n",
        "    # Initialize parameters a and b\n",
        "    a = 0\n",
        "    b = 0\n",
        "\n",
        "    # Number of samples\n",
        "    n = float(len(x))\n",
        "\n",
        "    # Gradient Descent\n",
        "    for _ in range(epochs):\n",
        "        # predicted values\n",
        "        y_pred = a * x + b\n",
        "\n",
        "        # derivatives for a and b\n",
        "        derivative_a = (-2/n) * np.sum(x * (y - y_pred))\n",
        "        derivative_b = (-2/n) * np.sum(y - y_pred)\n",
        "\n",
        "        # Update parameters a and b\n",
        "        a -= alpha * derivative_a\n",
        "        b -= alpha * derivative_b\n",
        "\n",
        "    return a, b\n",
        "\n",
        "# parameters for gradient descent\n",
        "alpha = 0.0000001  # Learning rate\n",
        "epochs = 1000  # Number of iterations\n",
        "\n",
        "# Obtain parameters 'a' and 'b' using gradient descent\n",
        "a, b = gradient_descent(x, y, alpha, epochs)\n",
        "print(f\"Parameters obtained: a = {a}, b = {b}\")"
      ],
      "metadata": {
        "colab": {
          "base_uri": "https://localhost:8080/"
        },
        "id": "1Aprwqy4u0Lo",
        "outputId": "981552ce-ceec-4da4-b120-1ae019e3bafe"
      },
      "execution_count": null,
      "outputs": [
        {
          "output_type": "stream",
          "name": "stdout",
          "text": [
            "Parameters obtained: a = 12.028517307752422, b = 0.0190034650848239\n"
          ]
        }
      ]
    },
    {
      "cell_type": "markdown",
      "source": [
        "**2. Plot the histogram with the residuals (y- ŷ) after model training for the original and predicted values.**"
      ],
      "metadata": {
        "id": "j8zugqsfXdtb"
      }
    },
    {
      "cell_type": "code",
      "source": [
        "import matplotlib.pyplot as plt\n",
        "\n",
        "# predicted values using obtained parameters 'a' and 'b'\n",
        "y_pred = a * x + b\n",
        "\n",
        "# residuals (y - ŷ)\n",
        "residuals = y - y_pred\n",
        "\n",
        "# Plot histogram with residuals for original and predicted values\n",
        "plt.figure(figsize=(8, 6))\n",
        "\n",
        "plt.hist(residuals, bins=20, color='skyblue', edgecolor='black', alpha=0.7)\n",
        "plt.title('Histogram of Residuals (y - ŷ)')\n",
        "plt.xlabel('Residuals')\n",
        "plt.ylabel('Frequency')\n",
        "plt.grid(True)\n",
        "plt.show()"
      ],
      "metadata": {
        "colab": {
          "base_uri": "https://localhost:8080/",
          "height": 564
        },
        "id": "NaBQTDWi4PcV",
        "outputId": "f7930c56-a568-4bc8-a5f9-f9a899a95212"
      },
      "execution_count": null,
      "outputs": [
        {
          "output_type": "display_data",
          "data": {
            "text/plain": [
              "<Figure size 800x600 with 1 Axes>"
            ],
            "image/png": "[encoded data removed]"
          },
          "metadata": {}
        }
      ]
    },
    {
      "cell_type": "markdown",
      "source": [
        "**3. Plot the  ŷ vs x (line chart), preferrably on top of a y vs x scatter plot**"
      ],
      "metadata": {
        "id": "vW8Oj8bVXkjc"
      }
    },
    {
      "cell_type": "code",
      "source": [
        "import matplotlib.pyplot as plt\n",
        "\n",
        "# Calculate predicted values using obtained parameters 'a' and 'b'\n",
        "y_pred = a * x + b\n",
        "\n",
        "# Plot ŷ vs x (line chart) overlaid on y vs x (scatter plot)\n",
        "plt.figure(figsize=(8, 6))\n",
        "\n",
        "# Scatter plot of y vs x\n",
        "plt.scatter(x, y, label='Actual', color='blue', alpha=0.6)\n",
        "\n",
        "# Line chart of ŷ vs x\n",
        "plt.plot(x, y_pred, label='Predicted', color='red', linewidth=2)\n",
        "\n",
        "plt.title('Actual vs Predicted Values')\n",
        "plt.xlabel('x')\n",
        "plt.ylabel('y')\n",
        "plt.legend()\n",
        "plt.grid(True)\n",
        "plt.show()"
      ],
      "metadata": {
        "colab": {
          "base_uri": "https://localhost:8080/",
          "height": 564
        },
        "id": "DAFi-oQt5JbR",
        "outputId": "c805ed98-8a89-4f90-faac-d5b2dd1cec9e"
      },
      "execution_count": null,
      "outputs": [
        {
          "output_type": "display_data",
          "data": {
            "text/plain": [
              "<Figure size 800x600 with 1 Axes>"
            ],
            "image/png": "[encoded data removed]"
          },
          "metadata": {}
        }
      ]
    },
    {
      "cell_type": "markdown",
      "source": [
        "**1. Report the parameter values after training on the given data the target variable is 'y' and there is only one feature 'x'.**"
      ],
      "metadata": {
        "id": "kj41811DY-27"
      }
    },
    {
      "cell_type": "code",
      "source": [
        "print(f\"Parameter 'a': {a}\")\n",
        "print(f\"Parameter 'b': {b}\")"
      ],
      "metadata": {
        "colab": {
          "base_uri": "https://localhost:8080/"
        },
        "id": "YOZqgC-OY9j5",
        "outputId": "9d0786d2-a8ef-458f-a433-fa35340eb253"
      },
      "execution_count": null,
      "outputs": [
        {
          "output_type": "stream",
          "name": "stdout",
          "text": [
            "Parameter 'a': 12.028517307752422\n",
            "Parameter 'b': 0.0190034650848239\n"
          ]
        }
      ]
    },
    {
      "cell_type": "markdown",
      "source": [
        "**2. Report the MSE value for your model after training**"
      ],
      "metadata": {
        "id": "WKFVeNCfZdlh"
      }
    },
    {
      "cell_type": "code",
      "source": [
        "from sklearn.metrics import mean_squared_error\n",
        "\n",
        "# Mean Squared Error (MSE)\n",
        "mse = mean_squared_error(y, y_pred)\n",
        "print(f\"Mean Squared Error (MSE): {mse}\")"
      ],
      "metadata": {
        "colab": {
          "base_uri": "https://localhost:8080/"
        },
        "id": "Yt2M6kVzZXI2",
        "outputId": "03518b1b-58fe-46d6-da0c-e6dcea9d2793"
      },
      "execution_count": null,
      "outputs": [
        {
          "output_type": "stream",
          "name": "stdout",
          "text": [
            "Mean Squared Error (MSE): 90.86678646725578\n"
          ]
        }
      ]
    },
    {
      "cell_type": "markdown",
      "source": [
        "**3. What do you think is the ideal ratio for train data if we are splitting the data into train and test datasets? Is the answer same irrespective of the size of the dataset? What percent would you take for training if your dataset has 1 feature, 1 target and 250 data points, what would you do if it had 10,000 data points instead of 250 data points.**"
      ],
      "metadata": {
        "id": "uDQWPuHWf9zE"
      }
    },
    {
      "cell_type": "markdown",
      "source": [
        "**Answer.)** The ideal ratio for splitting data into training and test dataset\n",
        "             can vary based on several factors, including the size of the dataset, the complexity of the problem, the amount of available data. Their are some examples of splitings like 70-30 or 80-20 splitting.\n",
        "             250 data points: With a relatively smaller dataset like this, a split of 70-30 or 80-20 could be reasonable.\n",
        "             10,000 data points: With a larger dataset, you might consider having a smaller percentage for testing while retaining enough data for training. E.g., 80-20 split could lead to 8,000 data points for training and 2,000 data points for testing.\n",
        "             \n"
      ],
      "metadata": {
        "id": "crCZM6rTgJ6r"
      }
    }
  ]
}