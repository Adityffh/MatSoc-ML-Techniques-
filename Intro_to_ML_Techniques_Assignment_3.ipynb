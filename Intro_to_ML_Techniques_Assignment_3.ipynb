{
  "nbformat": 4,
  "nbformat_minor": 0,
  "metadata": {
    "colab": {
      "provenance": []
    },
    "kernelspec": {
      "name": "python3",
      "display_name": "Python 3"
    },
    "language_info": {
      "name": "python"
    }
  },
  "cells": [
    {
      "cell_type": "code",
      "execution_count": 42,
      "metadata": {
        "id": "Jmy3eHXaver1",
        "colab": {
          "base_uri": "https://localhost:8080/",
          "height": 88
        },
        "outputId": "0f5f3396-ab09-44ae-ad96-5e08e0983bae"
      },
      "outputs": [
        {
          "output_type": "execute_result",
          "data": {
            "text/plain": [
              "'\\nMatSoc: Intro to ML Techniques\\nAssignment 3\\nDeadline: Sunday, 14 January 2024, 23:59 IST\\n\\nName:\\nRoll Number:\\nIITK Email:\\n\\nYou may use the ML library of your choice to do this part.\\n\\n1. Train a neural network on tensorflow for the given data\\n2. Train a decision tree with sklearn for the given data\\n3. Make predictions using the ensemble (average) of the two datasets\\n4. Report the error for the the neural network, decision tree and the ensemble.\\n5. Use Sampling with replacement to increase the data size by 15 percent.\\n6. Use 15% of the increased data set as the test data.\\n\\n  Note that the code for all parts must be visible\\n\\n  Make sure all the code is run before you submit the notebook.\\n\\n'"
            ],
            "application/vnd.google.colaboratory.intrinsic+json": {
              "type": "string"
            }
          },
          "metadata": {},
          "execution_count": 42
        }
      ],
      "source": [
        "\"\"\"\n",
        "MatSoc: Intro to ML Techniques\n",
        "Assignment 3\n",
        "Deadline: Sunday, 14 January 2024, 23:59 IST\n",
        "\n",
        "Name: Aditya Saraf\n",
        "Roll Number: 210067\n",
        "IITK Email: saditya21@iitk.ac.in\n",
        "\n",
        "You may use the ML library of your choice to do this part.\n",
        "\n",
        "1. Train a neural network on tensorflow for the given data\n",
        "2. Train a decision tree with sklearn for the given data\n",
        "3. Make predictions using the ensemble (average) of the two datasets\n",
        "4. Report the error for the the neural network, decision tree and the ensemble.\n",
        "5. Use Sampling with replacement to increase the data size by 15 percent.\n",
        "6. Use 15% of the increased data set as the test data.\n",
        "\n",
        "  Note that the code for all parts must be visible\n",
        "\n",
        "  Make sure all the code is run before you submit the notebook.\n",
        "\n",
        "\"\"\""
      ]
    },
    {
      "cell_type": "code",
      "source": [
        "!pip install tensorflow scikit-learn"
      ],
      "metadata": {
        "colab": {
          "base_uri": "https://localhost:8080/"
        },
        "id": "taB3Cb3EBtxP",
        "outputId": "45bf99e6-16b8-4a12-d3ac-e9c12fa788a2"
      },
      "execution_count": 43,
      "outputs": [
        {
          "output_type": "stream",
          "name": "stdout",
          "text": [
            "Requirement already satisfied: tensorflow in /usr/local/lib/python3.10/dist-packages (2.15.0)\n",
            "Requirement already satisfied: scikit-learn in /usr/local/lib/python3.10/dist-packages (1.2.2)\n",
            "Requirement already satisfied: absl-py>=1.0.0 in /usr/local/lib/python3.10/dist-packages (from tensorflow) (1.4.0)\n",
            "Requirement already satisfied: astunparse>=1.6.0 in /usr/local/lib/python3.10/dist-packages (from tensorflow) (1.6.3)\n",
            "Requirement already satisfied: flatbuffers>=23.5.26 in /usr/local/lib/python3.10/dist-packages (from tensorflow) (23.5.26)\n",
            "Requirement already satisfied: gast!=0.5.0,!=0.5.1,!=0.5.2,>=0.2.1 in /usr/local/lib/python3.10/dist-packages (from tensorflow) (0.5.4)\n",
            "Requirement already satisfied: google-pasta>=0.1.1 in /usr/local/lib/python3.10/dist-packages (from tensorflow) (0.2.0)\n",
            "Requirement already satisfied: h5py>=2.9.0 in /usr/local/lib/python3.10/dist-packages (from tensorflow) (3.9.0)\n",
            "Requirement already satisfied: libclang>=13.0.0 in /usr/local/lib/python3.10/dist-packages (from tensorflow) (16.0.6)\n",
            "Requirement already satisfied: ml-dtypes~=0.2.0 in /usr/local/lib/python3.10/dist-packages (from tensorflow) (0.2.0)\n",
            "Requirement already satisfied: numpy<2.0.0,>=1.23.5 in /usr/local/lib/python3.10/dist-packages (from tensorflow) (1.23.5)\n",
            "Requirement already satisfied: opt-einsum>=2.3.2 in /usr/local/lib/python3.10/dist-packages (from tensorflow) (3.3.0)\n",
            "Requirement already satisfied: packaging in /usr/local/lib/python3.10/dist-packages (from tensorflow) (23.2)\n",
            "Requirement already satisfied: protobuf!=4.21.0,!=4.21.1,!=4.21.2,!=4.21.3,!=4.21.4,!=4.21.5,<5.0.0dev,>=3.20.3 in /usr/local/lib/python3.10/dist-packages (from tensorflow) (3.20.3)\n",
            "Requirement already satisfied: setuptools in /usr/local/lib/python3.10/dist-packages (from tensorflow) (67.7.2)\n",
            "Requirement already satisfied: six>=1.12.0 in /usr/local/lib/python3.10/dist-packages (from tensorflow) (1.16.0)\n",
            "Requirement already satisfied: termcolor>=1.1.0 in /usr/local/lib/python3.10/dist-packages (from tensorflow) (2.4.0)\n",
            "Requirement already satisfied: typing-extensions>=3.6.6 in /usr/local/lib/python3.10/dist-packages (from tensorflow) (4.5.0)\n",
            "Requirement already satisfied: wrapt<1.15,>=1.11.0 in /usr/local/lib/python3.10/dist-packages (from tensorflow) (1.14.1)\n",
            "Requirement already satisfied: tensorflow-io-gcs-filesystem>=0.23.1 in /usr/local/lib/python3.10/dist-packages (from tensorflow) (0.35.0)\n",
            "Requirement already satisfied: grpcio<2.0,>=1.24.3 in /usr/local/lib/python3.10/dist-packages (from tensorflow) (1.60.0)\n",
            "Requirement already satisfied: tensorboard<2.16,>=2.15 in /usr/local/lib/python3.10/dist-packages (from tensorflow) (2.15.1)\n",
            "Requirement already satisfied: tensorflow-estimator<2.16,>=2.15.0 in /usr/local/lib/python3.10/dist-packages (from tensorflow) (2.15.0)\n",
            "Requirement already satisfied: keras<2.16,>=2.15.0 in /usr/local/lib/python3.10/dist-packages (from tensorflow) (2.15.0)\n",
            "Requirement already satisfied: scipy>=1.3.2 in /usr/local/lib/python3.10/dist-packages (from scikit-learn) (1.11.4)\n",
            "Requirement already satisfied: joblib>=1.1.1 in /usr/local/lib/python3.10/dist-packages (from scikit-learn) (1.3.2)\n",
            "Requirement already satisfied: threadpoolctl>=2.0.0 in /usr/local/lib/python3.10/dist-packages (from scikit-learn) (3.2.0)\n",
            "Requirement already satisfied: wheel<1.0,>=0.23.0 in /usr/local/lib/python3.10/dist-packages (from astunparse>=1.6.0->tensorflow) (0.42.0)\n",
            "Requirement already satisfied: google-auth<3,>=1.6.3 in /usr/local/lib/python3.10/dist-packages (from tensorboard<2.16,>=2.15->tensorflow) (2.17.3)\n",
            "Requirement already satisfied: google-auth-oauthlib<2,>=0.5 in /usr/local/lib/python3.10/dist-packages (from tensorboard<2.16,>=2.15->tensorflow) (1.2.0)\n",
            "Requirement already satisfied: markdown>=2.6.8 in /usr/local/lib/python3.10/dist-packages (from tensorboard<2.16,>=2.15->tensorflow) (3.5.1)\n",
            "Requirement already satisfied: requests<3,>=2.21.0 in /usr/local/lib/python3.10/dist-packages (from tensorboard<2.16,>=2.15->tensorflow) (2.31.0)\n",
            "Requirement already satisfied: tensorboard-data-server<0.8.0,>=0.7.0 in /usr/local/lib/python3.10/dist-packages (from tensorboard<2.16,>=2.15->tensorflow) (0.7.2)\n",
            "Requirement already satisfied: werkzeug>=1.0.1 in /usr/local/lib/python3.10/dist-packages (from tensorboard<2.16,>=2.15->tensorflow) (3.0.1)\n",
            "Requirement already satisfied: cachetools<6.0,>=2.0.0 in /usr/local/lib/python3.10/dist-packages (from google-auth<3,>=1.6.3->tensorboard<2.16,>=2.15->tensorflow) (5.3.2)\n",
            "Requirement already satisfied: pyasn1-modules>=0.2.1 in /usr/local/lib/python3.10/dist-packages (from google-auth<3,>=1.6.3->tensorboard<2.16,>=2.15->tensorflow) (0.3.0)\n",
            "Requirement already satisfied: rsa<5,>=3.1.4 in /usr/local/lib/python3.10/dist-packages (from google-auth<3,>=1.6.3->tensorboard<2.16,>=2.15->tensorflow) (4.9)\n",
            "Requirement already satisfied: requests-oauthlib>=0.7.0 in /usr/local/lib/python3.10/dist-packages (from google-auth-oauthlib<2,>=0.5->tensorboard<2.16,>=2.15->tensorflow) (1.3.1)\n",
            "Requirement already satisfied: charset-normalizer<4,>=2 in /usr/local/lib/python3.10/dist-packages (from requests<3,>=2.21.0->tensorboard<2.16,>=2.15->tensorflow) (3.3.2)\n",
            "Requirement already satisfied: idna<4,>=2.5 in /usr/local/lib/python3.10/dist-packages (from requests<3,>=2.21.0->tensorboard<2.16,>=2.15->tensorflow) (3.6)\n",
            "Requirement already satisfied: urllib3<3,>=1.21.1 in /usr/local/lib/python3.10/dist-packages (from requests<3,>=2.21.0->tensorboard<2.16,>=2.15->tensorflow) (2.0.7)\n",
            "Requirement already satisfied: certifi>=2017.4.17 in /usr/local/lib/python3.10/dist-packages (from requests<3,>=2.21.0->tensorboard<2.16,>=2.15->tensorflow) (2023.11.17)\n",
            "Requirement already satisfied: MarkupSafe>=2.1.1 in /usr/local/lib/python3.10/dist-packages (from werkzeug>=1.0.1->tensorboard<2.16,>=2.15->tensorflow) (2.1.3)\n",
            "Requirement already satisfied: pyasn1<0.6.0,>=0.4.6 in /usr/local/lib/python3.10/dist-packages (from pyasn1-modules>=0.2.1->google-auth<3,>=1.6.3->tensorboard<2.16,>=2.15->tensorflow) (0.5.1)\n",
            "Requirement already satisfied: oauthlib>=3.0.0 in /usr/local/lib/python3.10/dist-packages (from requests-oauthlib>=0.7.0->google-auth-oauthlib<2,>=0.5->tensorboard<2.16,>=2.15->tensorflow) (3.2.2)\n"
          ]
        }
      ]
    },
    {
      "cell_type": "code",
      "source": [
        "import tensorflow as tf\n",
        "from sklearn.model_selection import train_test_split\n",
        "from sklearn.preprocessing import StandardScaler\n",
        "from sklearn.tree import DecisionTreeClassifier\n",
        "from sklearn.metrics import accuracy_score\n",
        "import pandas as pd\n",
        "from sklearn.neural_network import MLPClassifier\n",
        "from sklearn.metrics import mean_squared_error\n",
        "from sklearn.utils import resample\n",
        "import numpy as np\n",
        "\n",
        "data = pd.read_csv(\"train_weekthree.csv\")\n",
        "X = data.iloc[:, :-1].values\n",
        "y = data.iloc[:, -1].values\n",
        "\n",
        "X_train, X_test, y_train, y_test = train_test_split(X, y, test_size=0.15, random_state=42)\n",
        "\n",
        "scaler = StandardScaler()\n",
        "X_train = scaler.fit_transform(X_train)\n",
        "X_test = scaler.transform(X_test)\n",
        "\n",
        "model = tf.keras.Sequential([\n",
        "    tf.keras.layers.Dense(64, activation='relu', input_shape=(X_train.shape[1],)),\n",
        "    tf.keras.layers.Dense(32, activation='relu'),\n",
        "    tf.keras.layers.Dense(1, activation='sigmoid')\n",
        "])\n",
        "\n",
        "model.compile(optimizer='adam', loss='binary_crossentropy', metrics=['accuracy'])\n",
        "\n",
        "model.fit(X_train, y_train, epochs=10, batch_size=32, validation_data=(X_test, y_test))\n"
      ],
      "metadata": {
        "colab": {
          "base_uri": "https://localhost:8080/"
        },
        "id": "wJ2dC09ICHyj",
        "outputId": "aee1ca22-6bca-43f8-df15-91e5cf1201a3"
      },
      "execution_count": 44,
      "outputs": [
        {
          "output_type": "stream",
          "name": "stdout",
          "text": [
            "Epoch 1/10\n",
            "21/21 [==============================] - 2s 21ms/step - loss: 0.5962 - accuracy: 0.6979 - val_loss: 0.5457 - val_accuracy: 0.7155\n",
            "Epoch 2/10\n",
            "21/21 [==============================] - 0s 8ms/step - loss: 0.5270 - accuracy: 0.7377 - val_loss: 0.5214 - val_accuracy: 0.7500\n",
            "Epoch 3/10\n",
            "21/21 [==============================] - 0s 8ms/step - loss: 0.4943 - accuracy: 0.7761 - val_loss: 0.5124 - val_accuracy: 0.6983\n",
            "Epoch 4/10\n",
            "21/21 [==============================] - 0s 7ms/step - loss: 0.4775 - accuracy: 0.7776 - val_loss: 0.5046 - val_accuracy: 0.7328\n",
            "Epoch 5/10\n",
            "21/21 [==============================] - 0s 7ms/step - loss: 0.4657 - accuracy: 0.7776 - val_loss: 0.4992 - val_accuracy: 0.7500\n",
            "Epoch 6/10\n",
            "21/21 [==============================] - 0s 7ms/step - loss: 0.4552 - accuracy: 0.7807 - val_loss: 0.5041 - val_accuracy: 0.7414\n",
            "Epoch 7/10\n",
            "21/21 [==============================] - 0s 6ms/step - loss: 0.4486 - accuracy: 0.7807 - val_loss: 0.5022 - val_accuracy: 0.7328\n",
            "Epoch 8/10\n",
            "21/21 [==============================] - 0s 6ms/step - loss: 0.4432 - accuracy: 0.7822 - val_loss: 0.5008 - val_accuracy: 0.7586\n",
            "Epoch 9/10\n",
            "21/21 [==============================] - 0s 6ms/step - loss: 0.4370 - accuracy: 0.7883 - val_loss: 0.5034 - val_accuracy: 0.7500\n",
            "Epoch 10/10\n",
            "21/21 [==============================] - 0s 6ms/step - loss: 0.4330 - accuracy: 0.7868 - val_loss: 0.5039 - val_accuracy: 0.7586\n"
          ]
        },
        {
          "output_type": "execute_result",
          "data": {
            "text/plain": [
              "<keras.src.callbacks.History at 0x7a1f8fc25450>"
            ]
          },
          "metadata": {},
          "execution_count": 44
        }
      ]
    },
    {
      "cell_type": "code",
      "source": [
        "tree_model = DecisionTreeClassifier(random_state=42)\n",
        "tree_model.fit(X_train, y_train)\n",
        "\n",
        "tree_predictions = tree_model.predict(X_test)"
      ],
      "metadata": {
        "id": "BemkkKaTNHBZ"
      },
      "execution_count": 45,
      "outputs": []
    },
    {
      "cell_type": "code",
      "source": [
        "nn_predictions = model.predict(X_test)\n",
        "nn_predictions_binary = (nn_predictions > 0.5).astype(int).squeeze()\n",
        "\n",
        "tree_predictions = tree_model.predict(X_test)\n",
        "\n",
        "ensemble_predictions = (nn_predictions_binary + tree_predictions) / 2\n",
        "ensemble_predictions_binary = (ensemble_predictions > 0.5).astype(int)"
      ],
      "metadata": {
        "colab": {
          "base_uri": "https://localhost:8080/"
        },
        "id": "qWuSQduEdwNd",
        "outputId": "f389ce33-2975-4adc-884f-3ebb606605d6"
      },
      "execution_count": 46,
      "outputs": [
        {
          "output_type": "stream",
          "name": "stdout",
          "text": [
            "4/4 [==============================] - 0s 3ms/step\n"
          ]
        }
      ]
    },
    {
      "cell_type": "code",
      "source": [
        "nn_loss, nn_accuracy = model.evaluate(X_test, y_test)\n",
        "print(f\"Neural Network Loss: {nn_loss}, Accuracy: {nn_accuracy}\")\n",
        "\n",
        "tree_accuracy = accuracy_score(y_test, tree_predictions)\n",
        "print(f\"Decision Tree Accuracy: {tree_accuracy}\")\n",
        "\n",
        "ensemble_accuracy = accuracy_score(y_test, ensemble_predictions_binary)\n",
        "print(f\"Ensemble Accuracy: {ensemble_accuracy}\")"
      ],
      "metadata": {
        "colab": {
          "base_uri": "https://localhost:8080/"
        },
        "id": "_g_qfhPdbrcZ",
        "outputId": "62b92604-9d14-4833-9671-b9a66a6de0dd"
      },
      "execution_count": 47,
      "outputs": [
        {
          "output_type": "stream",
          "name": "stdout",
          "text": [
            "4/4 [==============================] - 0s 4ms/step - loss: 0.5039 - accuracy: 0.7586\n",
            "Neural Network Loss: 0.5038666725158691, Accuracy: 0.7586206793785095\n",
            "Decision Tree Accuracy: 0.7758620689655172\n",
            "Ensemble Accuracy: 0.8275862068965517\n"
          ]
        }
      ]
    },
    {
      "cell_type": "code",
      "source": [
        "from sklearn.utils import resample\n",
        "\n",
        "num_samples_to_add = int(0.15 * len(data))\n",
        "\n",
        "resampled_data = resample(data, n_samples=num_samples_to_add, random_state=42)\n",
        "\n",
        "extended_data = pd.concat([data, resampled_data], axis=0)"
      ],
      "metadata": {
        "id": "dNm1yrXfUIGZ"
      },
      "execution_count": 48,
      "outputs": []
    },
    {
      "cell_type": "code",
      "source": [
        "X_extended = extended_data.iloc[:, :-1].values\n",
        "y_extended = extended_data.iloc[:, -1].values\n",
        "\n",
        "X_train_extended, X_test_extended, y_train_extended, y_test_extended = train_test_split(\n",
        "    X_extended, y_extended, test_size=0.15, random_state=42\n",
        ")"
      ],
      "metadata": {
        "id": "G7WotAzIVfs9"
      },
      "execution_count": 49,
      "outputs": []
    }
  ]
}